{
 "cells": [
  {
   "cell_type": "markdown",
   "id": "68b51550",
   "metadata": {},
   "source": [
    "## Exercise 1.1"
   ]
  },
  {
   "cell_type": "markdown",
   "id": "d262859c",
   "metadata": {},
   "source": [
    "Design a tic-tac-toe or noughts-and-crosses playing agent, using the agent design components\n",
    "listed above. Assume that a single time step includes a single move by the agent and the immediate move by\n",
    "the opponent. The goal is to win with as few steps as possible."
   ]
  },
  {
   "cell_type": "markdown",
   "id": "954f9dde",
   "metadata": {},
   "source": [
    "\n",
    "### Action Space (A)\n",
    "(Assuming agent is cross) Place a cross in any space 0 - 8 that is not already occupied \n",
    "\n",
    "### Percept Space (P)\n",
    "P = S\n",
    "\n",
    "### State Space (S)\n",
    "- Set of all possible tic-tac-toe board configuations\n",
    "- S = {(t1, t2, ..., t9) | ti in [X, O, _]}\n",
    "\n",
    "### World Dynamics/Transition Function (T : S × A → S')\n",
    "Current board combination + newly placed cross (and corresponding naught) -> new board combination\n",
    "\n",
    "### Perception Function (Z : S → P)\n",
    "Identity function\n",
    "\n",
    "### Utility Function (U : S → R)\n",
    "- We wish to insentivise winning in the smallest number of moves\n",
    "- If there are 3 crosses in a row -> 10 - #occupied, 3 naughts in a row -> -10 + #occupied, else 0\n"
   ]
  },
  {
   "cell_type": "markdown",
   "id": "386d733c",
   "metadata": {},
   "source": [
    "## Exercise 1.2.\n",
    "Determine the number of valid game states in tic-tac-toe."
   ]
  },
  {
   "cell_type": "markdown",
   "id": "1e36a726",
   "metadata": {},
   "source": [
    "- Chat GPT says: 26,830\n",
    "- Correct Answer: 5,000 something"
   ]
  },
  {
   "cell_type": "markdown",
   "id": "77de8f0f",
   "metadata": {},
   "source": [
    "## Exercise 1.3.\n",
    "Consider the components of an intelligent robot vacuum cleaner. Define its components:"
   ]
  },
  {
   "cell_type": "markdown",
   "id": "36d96106",
   "metadata": {},
   "source": [
    "### Abilities:\n",
    "- Avoid obsiticals\n",
    "- Using mops\n",
    "- Turning\n",
    "\n",
    "### Goals:\n",
    "- Clean the entire floor plan\n",
    "\n",
    "### Prior knowledge:\n",
    "- Map of home\n",
    "- Restricted areas\n",
    "\n",
    "### Stimuli/percepts:\n",
    "- Cameras\n",
    "- Lazers\n",
    "\n",
    "### Past experiences:\n",
    "- Where it has previously cleaned\n",
    "\n"
   ]
  },
  {
   "cell_type": "markdown",
   "id": "c94be88a",
   "metadata": {},
   "source": [
    "## Exercise 1.5.\n",
    "- Consider a navigation app, like an app on your smart phone or car that you use to find your way around UQ or other places. This program is essentially a rational agent. Assume that:\n",
    "    - Its goal is to find the shortest path to a goal location,\n",
    "    - The map used by the agent is 100% up to date,\n",
    "    - The location provided by the GPS is correct.\n",
    "- Suppose that you want to develop this navigation agent"
   ]
  },
  {
   "cell_type": "markdown",
   "id": "98ba3158",
   "metadata": {},
   "source": [
    "### Action Space (A)\n",
    "- Move along the map towards location\n",
    "\n",
    "### Percept Space (P)\n",
    "- Map and locations on the map\n",
    "\n",
    "### State Space (S)\n",
    "- Possible paths between two locations\n",
    "\n",
    "### World Dynamics/Transition Function (T : S × A → S')\n",
    "- Current Location + movement taken -> new location\n",
    "\n",
    "### Perception Function (Z : S → P)\n",
    "- Identity?\n",
    "\n",
    "### Utility Function (U : S → R)\n",
    "- We wish to insentivise getting to location in the smallest amount of time\n",
    "- U = 1/time taken to get to location"
   ]
  },
  {
   "cell_type": "markdown",
   "id": "378a8eee",
   "metadata": {},
   "source": [
    "In theory the enviroment is continuous as you can be located at any spot on the ground, however to simplify the problem for the practical implementation it may be advisable to spit the map up into small descrete grid squares. If we are not considering traffic ect then the actions are deterministic, if not, it may not be. As long as the agent has full access to maps / gps then the agent has full observability. "
   ]
  }
 ],
 "metadata": {
  "language_info": {
   "name": "python"
  }
 },
 "nbformat": 4,
 "nbformat_minor": 5
}
